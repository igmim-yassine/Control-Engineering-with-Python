{
 "cells": [
  {
   "cell_type": "code",
   "execution_count": null,
   "metadata": {},
   "outputs": [],
   "source": [
    "from numpy import *\n",
    "from numpy.linalg import *\n",
    "from scipy.integrate import *\n",
    "from scipy.signal import *\n",
    "\n",
    "%matplotlib notebook\n",
    "from matplotlib.pyplot import *\n",
    "rcParams[\"figure.figsize\"] = (10,6)"
   ]
  },
  {
   "cell_type": "markdown",
   "metadata": {},
   "source": [
    "Chariot Model\n",
    "==============\n",
    "\n",
    "We consider a mobile robot of \"chariot\" type, evolving in the plane.\n",
    "From above, its frame appears to be a disk of diameter $D$. It has two fixed wheels (their orientation does not change), which are parallel and located at opposite ends of the frame (hence separated by a distance of $D$) ;\n",
    "these wheels have the common radius $R$.\n",
    "\n",
    "The robot is symmetric with respect to the axis that joins the two wheels. For convenience, a green sticker is attached at the boundary of the frame on one side of this axis, on the robot axis of symmetry ; this side will is called the \"front\" of the robot, the point itself is called the \"nose\" of the robot. When we talk about the \"left wheel\" or the \"right wheel\", we assume that we are looking towards the front of the robot.\n",
    "\n",
    "We will denote $(x, y)$ the coordinates of the wheel axis in the orthonormal frame $(0, e_x, e_y)$ of the plane. The angle $\\theta$ refers to the angle of the wheels direction with respect to vector $e_x$ ; with\n",
    "$\\theta = 0$ when the front of the robot faces the right and $\\theta = \\pi/2$ when he faces the top.\n",
    "We will denote $\\phi_l$ and $\\phi_r$ the rotation angles of the left and right wheel respectively ; by convention, when these angles increase, the robot moves forward."
   ]
  },
  {
   "cell_type": "markdown",
   "metadata": {},
   "source": [
    "### Task - Parameter Definition\n",
    "\n",
    "\n",
    "From now on, we assume that the frame diameter is $D = 1 \\mbox{ m}$ and the wheel radius is $R = 10 \\mbox{ cm}$.\n",
    "Define the corresponding Python variables `D` and `R` (express every length in meters, and more generally in the sequel, always use the [international standard of units](https://en.wikipedia.org/wiki/SI_derived_unit)) for numerical values. "
   ]
  },
  {
   "cell_type": "markdown",
   "metadata": {},
   "source": [
    "### Task - Graphical Representation\n",
    "\n",
    "Use `matplotlib` to draw an image of the robot in the plane for arbitrary values of $(x, y)$ and $\\theta$. The frame will be represented as a circle, the wheels as lines and the nose as a green point."
   ]
  },
  {
   "cell_type": "code",
   "execution_count": null,
   "metadata": {},
   "outputs": [],
   "source": [
    "figure()\n",
    "axes = gca()\n",
    "axes.axis([-15, 15, -10, 10])\n",
    "axes.set_aspect(1)\n",
    "grid(True)\n",
    "..."
   ]
  },
  {
   "cell_type": "markdown",
   "metadata": {},
   "source": [
    "### Task - Kinematic Modeling\n",
    "\n",
    "We assume that we can control the wheels angular velocities $\\omega_l = \\dot{\\phi}_l$ and $\\omega_r = \\dot{\\phi}_r$ (this is a *kinematic* model of the robot).\n",
    "We also assume that the chariot wheels roll without slipping. \n",
    "\n",
    "Establish the differential equations that relate $\\dot{x}$,\n",
    "$\\dot{y}$ and $\\dot{\\theta}$ with $\\omega_l$ and $\\omega_r$."
   ]
  },
  {
   "cell_type": "markdown",
   "metadata": {},
   "source": [
    "### Task - Model Implementation\n",
    "\n",
    "Implement a function `f` that computes $\\dot{X} = (\\dot{x}, \\dot{y}, \\dot{\\theta})$ given $X = (x,y,\\theta)$ \n",
    "and $\\omega = (\\omega_l, \\omega_r)$.\n"
   ]
  },
  {
   "cell_type": "code",
   "execution_count": null,
   "metadata": {},
   "outputs": [],
   "source": [
    "def f(t, X, omega):\n",
    "    x, y, theta = X\n",
    "    omega_l, omega_r = omega\n",
    "    ...\n",
    "    dX = array([dx, dy, dtheta])\n",
    "    return dX"
   ]
  },
  {
   "cell_type": "markdown",
   "metadata": {},
   "source": [
    "### Task - Simulation Setup\n",
    "\n",
    "Show how the `solve_ivp` function can be used to solve the system dynamics on a span of 10 secs when:\n",
    "\n",
    "  - $\\omega$ is constant, equal to $\\omega_0 = (\\omega_{l0}, \\omega_{r0})$ and\n",
    "  \n",
    "  - $X_0 = (x_0, y_0, \\theta_0)$.\n",
    "  \n",
    "  "
   ]
  },
  {
   "cell_type": "markdown",
   "metadata": {},
   "source": [
    "### Task: Simulation Validation\n",
    " \n",
    "  \n",
    "We would like to validate the results of our simulation code at this stage. \n",
    "\n",
    "To do this, select a few initials conditions $X_0$ and values of $\\omega_0$ that are \"as different as possible\" (we want to check that our simulation of the dynamics works in all cases) for which the analytical solution is know. Compute these solutions, then, plot $x$, $y$ and $\\theta$ as functions of the time $t$ and check that the result is consistent."
   ]
  },
  {
   "cell_type": "markdown",
   "metadata": {},
   "source": [
    "### Task: Time-dependent Inputs\n",
    "\n",
    "Provide a simulation code that handles the case of time-dependent angular velocities $\\omega_l$ and $\\omega_r$, for example:\n",
    "    "
   ]
  },
  {
   "cell_type": "code",
   "execution_count": null,
   "metadata": {},
   "outputs": [],
   "source": [
    "def omega_l(t):\n",
    "    if t <= 5.0:\n",
    "        return pi * D\n",
    "    else:\n",
    "        return 0.0\n",
    "    \n",
    "def omega_r(t):\n",
    "    if t >= 5.0:\n",
    "        return pi * D\n",
    "    else:\n",
    "        return 0.0"
   ]
  },
  {
   "cell_type": "markdown",
   "metadata": {},
   "source": [
    "### Task: Validation\n",
    "\n",
    "Compute the analytical solution for $X_0 = (0.0, 0.0, 0.0)$ for the time-dependent $\\omega(t)$ example and check that your simulation code outputs consistent results."
   ]
  },
  {
   "cell_type": "markdown",
   "metadata": {},
   "source": [
    "### Task: User-defined Sample Times\n",
    "\n",
    "Adapt your simulation code to generate arrays `x`, `y` and `theta` which correspond to a given array of time values `t` in $[0.0, 10.0]$. Test the code with `t = arange(0.0, 10.0, dt)` where `dt = 1.0 / 60.0` ; in this case we get a state update 60 times per second, something that is appropriate to display animations."
   ]
  },
  {
   "cell_type": "markdown",
   "metadata": {},
   "source": [
    "### Task: Animation\n",
    "\n",
    "For each of the use cases considered so far, compute the solution as arrays `x`, `y` and `theta` which correspond to `t = arange(0.0, 10.0, dt)` where `dt = 1.0 / 60.0` and display the result of this simulation graphically as an animated robot in the plane. Refer to [this example notebook](https://github.com/boisgera/control-engineering-with-python/blob/master/examples/animation.ipynb) if necessary."
   ]
  },
  {
   "cell_type": "markdown",
   "metadata": {},
   "source": [
    "Local Control in a Lane\n",
    "==================="
   ]
  },
  {
   "cell_type": "markdown",
   "metadata": {},
   "source": [
    "At Rest\n",
    "--------------------------------------"
   ]
  },
  {
   "cell_type": "markdown",
   "metadata": {},
   "source": [
    "### Task : Equilibrium\n",
    "\n",
    "Show that for a suitable (constant) choice $\\omega_e \\in \\mathbb{R}^2$ of the vector input $\\omega$, the state $X_e = (x_e, y_e, \\theta_e) = (0,0,0)$ is an equilibrium of the mobile robot.\n",
    "\n",
    "Show that for any other $\\omega_e$, the system has no equilibrium.\n",
    "\n",
    "Conversely, if $\\omega = \\omega_e$, what are the other equilibria of the system?"
   ]
  },
  {
   "cell_type": "markdown",
   "metadata": {},
   "source": [
    "### Task : Linearized System\n",
    "\n",
    "\n",
    "Let $\\omega = \\omega_e$ and $X_e = (0,0,0)$.\n",
    "\n",
    "Introduce the error variables $\\Delta X = (\\Delta x, \\Delta y, \\Delta \\theta) = X - X_e$.\n",
    "Compute the corresponding linearized dynamics and put it in standard form: compute the matrices $A$ and $B$."
   ]
  },
  {
   "cell_type": "markdown",
   "metadata": {},
   "source": [
    "### Task : Stability Analysis\n",
    "\n",
    "\n",
    "Is the linearized system asymptotically stable around $(0,0,0)$ when $\\Delta \\omega = (0,0)$ ?\n",
    "\n",
    "Is the original system asymptotically stable ? Or even (locally) attractive ? Justify your answers."
   ]
  },
  {
   "cell_type": "markdown",
   "metadata": {},
   "source": [
    "### Task : Linearized System\n",
    "Show that the linearized system is not controllable. "
   ]
  },
  {
   "cell_type": "markdown",
   "metadata": {},
   "source": [
    "### Task : Straight Line\n",
    "\n",
    "Let $x_r(t) = v t$ and $y_r(t) = 0$ where $v \\in \\mathbb{R}$ and $v \\neq 0$. Determine the set of trajectories $X_r(t) = (x_r(t), y_r(t), \\theta_r(t))$ which are admissible and compute the corresponding reference control $\\omega_r(t)$."
   ]
  },
  {
   "cell_type": "markdown",
   "metadata": {},
   "source": [
    "### Task : Linearized System\n",
    "\n",
    "Let $\\Delta X(t) = X(t) - X_r(t)$ and $\\Delta \\omega(t) = \\omega(t) - \\omega_r(t)$. Compute the linearized dynamics of the system. Is the system asymptotically stable ? Attractive ?"
   ]
  },
  {
   "cell_type": "markdown",
   "metadata": {},
   "source": [
    "### Task : Linearized System\n",
    "Show that the linearized system is controllable."
   ]
  },
  {
   "cell_type": "markdown",
   "metadata": {},
   "source": [
    "### Task : Controller Design\n",
    "\n",
    "Implement a process that computes a gain matrix $K$ that places the poles of the linearized system at some arbitrary location. Select a location of the poles that asymptotically stabilizes the system.\n",
    "\n"
   ]
  },
  {
   "cell_type": "markdown",
   "metadata": {},
   "source": [
    "### Task: Controller Tuning I\n",
    "\n",
    "We assume that the reference velocity $v$ is $10$ km/h and that the robot starts at $X(0) = (0.0, 2.0, 0.0)$.\n",
    "Tune the poles so that the actual location $(x, y)$ is within 10 cm of the desired location within 10 sec and the linear velocity of each wheel never exceeds $15$ km/h.\n",
    "\n",
    "Plot the evolution of the robot angle. Why is it important to check that this angle stays small ?"
   ]
  },
  {
   "cell_type": "markdown",
   "metadata": {},
   "source": [
    "### Task: Controller Tuning II\n",
    "\n",
    "Repeat the controller design and tuning steps above using an optimal control methodology."
   ]
  },
  {
   "cell_type": "markdown",
   "metadata": {},
   "source": [
    "### Task: Controller Validation"
   ]
  },
  {
   "cell_type": "markdown",
   "metadata": {},
   "source": [
    "Test your controller on the \"true\" (nonlinear) dynamics. Adjust the controller tuning is necessary.\n",
    "\n",
    "Demonstrate the controller behavior with an animation of the robot."
   ]
  },
  {
   "cell_type": "markdown",
   "metadata": {},
   "source": [
    "Global Control and General Trajectories\n",
    "===================================="
   ]
  },
  {
   "cell_type": "markdown",
   "metadata": {},
   "source": [
    "### Task - Nose Dynamics"
   ]
  },
  {
   "cell_type": "markdown",
   "metadata": {},
   "source": [
    "Write the differential equation satisfied by the location $(x_n, y_n)$ of the robot nose. "
   ]
  },
  {
   "cell_type": "markdown",
   "metadata": {},
   "source": [
    "### Task - Admissible Trajectoiries"
   ]
  },
  {
   "cell_type": "markdown",
   "metadata": {},
   "source": [
    "Show any (smooth) reference evolution of the robot nose $(x_n^r(t), y_n^r(t))$ and any initial state of the robot consistent with the initial nose location, there is an admissible trajectory $(x(t), y(t), \\theta(t))$ that corresponds to this reference. Hint: search the unique $\\omega_l(t)$ and $\\omega_r(t)$ -- as functions of $\\dot{x}_n^r(t)$, $\\dot{y}_n^r(t)$ and $\\theta(t)$ -- that satisfies this property. "
   ]
  },
  {
   "cell_type": "markdown",
   "metadata": {},
   "source": [
    "### Task - Stability\n",
    "\n",
    "Let $v>0$ be the value in m/s that corresponds to $10$ km/h and let $(x_n^r(t), y_n^r(t)) = (vt, 0)$.\n",
    "Simulate the robot evolution (with animation) with the choice for $\\omega_l$ and $\\omega_r$ of the previous question for different values of $X(0)$. In particular, investigate the case of à $\\theta(0)$ close to $0$, then close to $\\pi$. Is the system dynamics asymptotically stable in each case ?"
   ]
  },
  {
   "cell_type": "markdown",
   "metadata": {},
   "source": [
    "### Task - Trajectory Planning\n",
    "\n",
    "Consider three pillars (of radius 10 cm) whose centers are aligned and distant of 3 meters, say at the locations\n",
    "$$\n",
    "(1.5,0), (4.5, 0) \\mbox{ and } (7.5,0).\n",
    "$$\n",
    "Compute a reference trajectory trajectory that would lead the robot nose from $(0,0)$ (with a robot pointing to the right) to $(9,0)$ with a slalom between the pillars. Of course, you don't want the robot frame to bump into the pillars ! Display this trajectory graphically. What happens when if the inputs $\\omega_l(t)$ and $\\omega_r(t)$ are applied but the robot is not initially at the expected position ?\n"
   ]
  },
  {
   "cell_type": "markdown",
   "metadata": {},
   "source": [
    "### Task - Exact (Partial) Linearization\n",
    "\n",
    "Show that there is a function \n",
    "$$\n",
    "(\\omega_l, \\omega_r) = \\phi(X, u)\n",
    "$$ \n",
    "-- where $u = (u_1, u_2)$ is an *auxiliary control* -- such that the robot nose coordinates satisfy\n",
    "$$\n",
    "\\dot{x}_n = u_1 \\mbox{ and } \\dot{y}_n = u_2.\n",
    "$$\n"
   ]
  },
  {
   "cell_type": "markdown",
   "metadata": {},
   "source": [
    "### Task - Stabilization\n",
    "\n",
    "Let $\\Delta x_n = x_n - x_n^r$ and $\\Delta y_n = y_n - y_n^r$. Can you find a control law $u$ such that $\\Delta x_n$ and $\\Delta y_n$ converge exponentially to $0$ with a prescribed time constant $T$ ? Consider again the slalom between the pillars when the initial configuration of the robot does not match the reference trajectory but with this new strategy and contrast with the previous attempt."
   ]
  }
 ],
 "metadata": {
  "kernelspec": {
   "display_name": "Python 3",
   "language": "python",
   "name": "python3"
  },
  "language_info": {
   "codemirror_mode": {
    "name": "ipython",
    "version": 3
   },
   "file_extension": ".py",
   "mimetype": "text/x-python",
   "name": "python",
   "nbconvert_exporter": "python",
   "pygments_lexer": "ipython3",
   "version": "3.9.2"
  }
 },
 "nbformat": 4,
 "nbformat_minor": 4
}
